{
 "cells": [
  {
   "cell_type": "markdown",
   "id": "5a542ac4",
   "metadata": {},
   "source": [
    "## Imports"
   ]
  },
  {
   "cell_type": "code",
   "execution_count": 1,
   "id": "f8bce3c2",
   "metadata": {},
   "outputs": [],
   "source": [
    "import os\n",
    "from dotenv import load_dotenv\n",
    "from src.llmclient import get_llm_call_fn\n",
    "from src.validators import apply_validator"
   ]
  },
  {
   "cell_type": "code",
   "execution_count": 2,
   "id": "62587906",
   "metadata": {},
   "outputs": [
    {
     "data": {
      "text/plain": [
       "True"
      ]
     },
     "execution_count": 2,
     "metadata": {},
     "output_type": "execute_result"
    }
   ],
   "source": [
    "load_dotenv()"
   ]
  },
  {
   "cell_type": "markdown",
   "id": "598012f4",
   "metadata": {},
   "source": [
    "## Definindo a LLM"
   ]
  },
  {
   "cell_type": "code",
   "execution_count": 3,
   "id": "4e3dc227",
   "metadata": {},
   "outputs": [
    {
     "name": "stdout",
     "output_type": "stream",
     "text": [
      "A capital da França é Paris!\n"
     ]
    }
   ],
   "source": [
    "llm_fn = get_llm_call_fn(\n",
    "    provider=\"openai\",\n",
    "    api_key= os.getenv(\"API_KEY\"),\n",
    "    base_url=\"https://api.groq.com/openai/v1\",\n",
    "    model = \"llama3-70b-8192\",\n",
    "    temperature = 0.2\n",
    ")\n",
    "\n",
    "resposta = llm_fn(\"Qual é a capital da França?\")\n",
    "print(resposta)\n"
   ]
  },
  {
   "cell_type": "markdown",
   "id": "0c377ddb",
   "metadata": {},
   "source": [
    "## Testes Unitários"
   ]
  },
  {
   "cell_type": "markdown",
   "id": "1831fcb6",
   "metadata": {},
   "source": [
    "### Validador de Email"
   ]
  },
  {
   "cell_type": "markdown",
   "id": "f187f4db",
   "metadata": {},
   "source": [
    "- verificar validador comum"
   ]
  },
  {
   "cell_type": "code",
   "execution_count": 11,
   "id": "375b905a",
   "metadata": {},
   "outputs": [
    {
     "data": {
      "text/plain": [
       "{'is_original_valid': 1, 'is_corrected_valid': None, 'corrected': None}"
      ]
     },
     "execution_count": 11,
     "metadata": {},
     "output_type": "execute_result"
    }
   ],
   "source": [
    "apply_validator('email', 'marialuiza@gmail.com')"
   ]
  },
  {
   "cell_type": "code",
   "execution_count": 5,
   "id": "d69b977b",
   "metadata": {},
   "outputs": [
    {
     "data": {
      "text/plain": [
       "{'is_original_valid': 0, 'is_corrected_valid': None, 'corrected': None}"
      ]
     },
     "execution_count": 5,
     "metadata": {},
     "output_type": "execute_result"
    }
   ],
   "source": [
    "apply_validator('email', 'marialuizagmail.com')"
   ]
  },
  {
   "cell_type": "markdown",
   "id": "53e1dd60",
   "metadata": {},
   "source": [
    "- verificar validador com LLM"
   ]
  },
  {
   "cell_type": "code",
   "execution_count": 8,
   "id": "acf4490e",
   "metadata": {},
   "outputs": [
    {
     "data": {
      "text/plain": [
       "{'is_original_valid': 1,\n",
       " 'is_corrected_valid': 1,\n",
       " 'corrected': 'marialuiza@gmail.com'}"
      ]
     },
     "execution_count": 8,
     "metadata": {},
     "output_type": "execute_result"
    }
   ],
   "source": [
    "apply_validator('email', 'mrialuiza@gmail.com', llm_fn)"
   ]
  },
  {
   "cell_type": "code",
   "execution_count": 20,
   "id": "10cdd026",
   "metadata": {},
   "outputs": [
    {
     "data": {
      "text/plain": [
       "{'is_original_valid': 0,\n",
       " 'is_corrected_valid': 1,\n",
       " 'corrected': 'joao.wuillaume@gmail.com'}"
      ]
     },
     "execution_count": 20,
     "metadata": {},
     "output_type": "execute_result"
    }
   ],
   "source": [
    "apply_validator('email', 'joaoo.wuillaume#gmial.com', llm_fn)"
   ]
  },
  {
   "cell_type": "markdown",
   "id": "e3a0c762",
   "metadata": {},
   "source": [
    "### Validador de Profissão"
   ]
  },
  {
   "cell_type": "markdown",
   "id": "47a017b9",
   "metadata": {},
   "source": [
    "- validador comum"
   ]
  },
  {
   "cell_type": "code",
   "execution_count": 10,
   "id": "92f01048",
   "metadata": {},
   "outputs": [
    {
     "data": {
      "text/plain": [
       "{'is_original_valid': 0, 'is_corrected_valid': None, 'corrected': None}"
      ]
     },
     "execution_count": 10,
     "metadata": {},
     "output_type": "execute_result"
    }
   ],
   "source": [
    "apply_validator('profissao', 'Médico cardiologista')"
   ]
  },
  {
   "cell_type": "code",
   "execution_count": 11,
   "id": "31cf443f",
   "metadata": {},
   "outputs": [
    {
     "data": {
      "text/plain": [
       "{'is_original_valid': 1, 'is_corrected_valid': None, 'corrected': None}"
      ]
     },
     "execution_count": 11,
     "metadata": {},
     "output_type": "execute_result"
    }
   ],
   "source": [
    "apply_validator('profissao', 'Médico Cardiologista')"
   ]
  },
  {
   "cell_type": "markdown",
   "id": "56a6f58b",
   "metadata": {},
   "source": [
    "- validador com LLM"
   ]
  },
  {
   "cell_type": "code",
   "execution_count": 6,
   "id": "d8614e31",
   "metadata": {},
   "outputs": [
    {
     "data": {
      "text/plain": [
       "{'is_original_valid': 1,\n",
       " 'is_corrected_valid': 1,\n",
       " 'corrected': 'Cientista de Dados'}"
      ]
     },
     "execution_count": 6,
     "metadata": {},
     "output_type": "execute_result"
    }
   ],
   "source": [
    "apply_validator('profissao', 'Ciêntista de Dadoos', llm_fn)"
   ]
  },
  {
   "cell_type": "markdown",
   "id": "c944a047",
   "metadata": {},
   "source": [
    "### Validador de Endereços"
   ]
  },
  {
   "cell_type": "markdown",
   "id": "d8ded0ee",
   "metadata": {},
   "source": [
    "- validador comum"
   ]
  },
  {
   "cell_type": "code",
   "execution_count": 4,
   "id": "e19117c7",
   "metadata": {},
   "outputs": [
    {
     "data": {
      "text/plain": [
       "{'is_original_valid': 1, 'is_corrected_valid': None, 'corrected': None}"
      ]
     },
     "execution_count": 4,
     "metadata": {},
     "output_type": "execute_result"
    }
   ],
   "source": [
    "apply_validator('endereco', 'Rua Teste Número 12')"
   ]
  },
  {
   "cell_type": "code",
   "execution_count": 5,
   "id": "85b59176",
   "metadata": {},
   "outputs": [
    {
     "data": {
      "text/plain": [
       "{'is_original_valid': 0, 'is_corrected_valid': None, 'corrected': None}"
      ]
     },
     "execution_count": 5,
     "metadata": {},
     "output_type": "execute_result"
    }
   ],
   "source": [
    "apply_validator('endereco', 'Teste Número x')"
   ]
  },
  {
   "cell_type": "markdown",
   "id": "57b9a81c",
   "metadata": {},
   "source": [
    "- validador com LLM"
   ]
  },
  {
   "cell_type": "code",
   "execution_count": 6,
   "id": "88192edb",
   "metadata": {},
   "outputs": [
    {
     "data": {
      "text/plain": [
       "{'is_original_valid': 1,\n",
       " 'is_corrected_valid': 1,\n",
       " 'corrected': 'Rua Conde de Boa-Fim, 900'}"
      ]
     },
     "execution_count": 6,
     "metadata": {},
     "output_type": "execute_result"
    }
   ],
   "source": [
    "apply_validator('endereco', 'Conde de Bonfim 900', llm_fn)"
   ]
  },
  {
   "cell_type": "code",
   "execution_count": 7,
   "id": "b557f2f6",
   "metadata": {},
   "outputs": [
    {
     "data": {
      "text/plain": [
       "{'is_original_valid': 1,\n",
       " 'is_corrected_valid': 1,\n",
       " 'corrected': 'Alameda de Bonfim, 218'}"
      ]
     },
     "execution_count": 7,
     "metadata": {},
     "output_type": "execute_result"
    }
   ],
   "source": [
    "apply_validator('endereco', 'Almeda de Bonfim 218', llm_fn)"
   ]
  },
  {
   "cell_type": "markdown",
   "id": "1d7f6a03",
   "metadata": {},
   "source": [
    "### Nome Completo"
   ]
  },
  {
   "cell_type": "markdown",
   "id": "2fe07592",
   "metadata": {},
   "source": [
    "- validador comum"
   ]
  },
  {
   "cell_type": "code",
   "execution_count": 4,
   "id": "ea88fafa",
   "metadata": {},
   "outputs": [
    {
     "data": {
      "text/plain": [
       "{'is_original_valid': 0, 'is_corrected_valid': None, 'corrected': None}"
      ]
     },
     "execution_count": 4,
     "metadata": {},
     "output_type": "execute_result"
    }
   ],
   "source": [
    "apply_validator('nome_completo', 'Maria Luiza cantanhede')"
   ]
  },
  {
   "cell_type": "code",
   "execution_count": 5,
   "id": "1b4e218a",
   "metadata": {},
   "outputs": [
    {
     "data": {
      "text/plain": [
       "{'is_original_valid': 0, 'is_corrected_valid': None, 'corrected': None}"
      ]
     },
     "execution_count": 5,
     "metadata": {},
     "output_type": "execute_result"
    }
   ],
   "source": [
    "apply_validator('nome_completo', 'Maria ')"
   ]
  },
  {
   "cell_type": "markdown",
   "id": "6ac3c67c",
   "metadata": {},
   "source": [
    "- validador com LLM"
   ]
  },
  {
   "cell_type": "code",
   "execution_count": 6,
   "id": "e065248c",
   "metadata": {},
   "outputs": [
    {
     "data": {
      "text/plain": [
       "{'is_original_valid': 1, 'is_corrected_valid': 1, 'corrected': 'João Cardoso'}"
      ]
     },
     "execution_count": 6,
     "metadata": {},
     "output_type": "execute_result"
    }
   ],
   "source": [
    "apply_validator('nome_completo', 'Jo~ao Cardoso ', llm_fn)"
   ]
  }
 ],
 "metadata": {
  "kernelspec": {
   "display_name": "Python 3",
   "language": "python",
   "name": "python3"
  },
  "language_info": {
   "codemirror_mode": {
    "name": "ipython",
    "version": 3
   },
   "file_extension": ".py",
   "mimetype": "text/x-python",
   "name": "python",
   "nbconvert_exporter": "python",
   "pygments_lexer": "ipython3",
   "version": "3.10.11"
  }
 },
 "nbformat": 4,
 "nbformat_minor": 5
}
